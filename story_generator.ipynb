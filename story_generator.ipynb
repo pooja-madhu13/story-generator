{
  "nbformat": 4,
  "nbformat_minor": 0,
  "metadata": {
    "colab": {
      "provenance": [],
      "authorship_tag": "ABX9TyNt+bjb5LwPwBeoSSM5EBMS",
      "include_colab_link": true
    },
    "kernelspec": {
      "name": "python3",
      "display_name": "Python 3"
    },
    "language_info": {
      "name": "python"
    }
  },
  "cells": [
    {
      "cell_type": "markdown",
      "metadata": {
        "id": "view-in-github",
        "colab_type": "text"
      },
      "source": [
        "<a href=\"https://colab.research.google.com/github/pooja-madhu13/story-generator/blob/main/story_generator.ipynb\" target=\"_parent\"><img src=\"https://colab.research.google.com/assets/colab-badge.svg\" alt=\"Open In Colab\"/></a>"
      ]
    },
    {
      "cell_type": "code",
      "source": [
        "import random\n",
        "def storygenerator():\n",
        "   characters=[\"rabbit\",\"tortoise\",\"elephant\",\"panda\"]\n",
        "   places=[\"burrow\",\"water\",\"forest\",\"bamboo tree\"]\n",
        "   actions=[\"eats the carrot\",\"walks slowly\",\"plays joyfully\",\"act cute\"]\n",
        "   character=random.choice(characters)\n",
        "   place=random.choice(places)\n",
        "   action=random.choice(actions)\n",
        "   print(f\"once upon a time there is a {character} which lives in {place} it is used to do like {action}\")\n",
        "storygenerator()\n",
        "\n",
        "\n"
      ],
      "metadata": {
        "colab": {
          "base_uri": "https://localhost:8080/"
        },
        "id": "JQYrOfRNAtq1",
        "outputId": "d87a8252-bf85-4189-ec66-fc2ebff692ab"
      },
      "execution_count": null,
      "outputs": [
        {
          "output_type": "stream",
          "name": "stdout",
          "text": [
            "once upon a time there is a elephant which lives in bamboo tree it is used to do like eats the carrot\n"
          ]
        }
      ]
    }
  ]
}